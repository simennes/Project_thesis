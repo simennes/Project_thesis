{
 "cells": [
  {
   "cell_type": "markdown",
   "id": "aaa9e288",
   "metadata": {},
   "source": [
    "# Nested CV: Pearson r per fold\n",
    "\n",
    "This notebook loads `outputs/nested_cv/nested_cv_metrics.json` and visualizes the per-fold Pearson correlation as a boxplot."
   ]
  },
  {
   "cell_type": "code",
   "execution_count": 11,
   "id": "e1e3095c",
   "metadata": {},
   "outputs": [
    {
     "data": {
      "text/html": [
       "<div>\n",
       "<style scoped>\n",
       "    .dataframe tbody tr th:only-of-type {\n",
       "        vertical-align: middle;\n",
       "    }\n",
       "\n",
       "    .dataframe tbody tr th {\n",
       "        vertical-align: top;\n",
       "    }\n",
       "\n",
       "    .dataframe thead th {\n",
       "        text-align: right;\n",
       "    }\n",
       "</style>\n",
       "<table border=\"1\" class=\"dataframe\">\n",
       "  <thead>\n",
       "    <tr style=\"text-align: right;\">\n",
       "      <th></th>\n",
       "      <th>fold</th>\n",
       "      <th>pearson_r</th>\n",
       "    </tr>\n",
       "  </thead>\n",
       "  <tbody>\n",
       "    <tr>\n",
       "      <th>0</th>\n",
       "      <td>1</td>\n",
       "      <td>0.313344</td>\n",
       "    </tr>\n",
       "    <tr>\n",
       "      <th>1</th>\n",
       "      <td>2</td>\n",
       "      <td>0.313495</td>\n",
       "    </tr>\n",
       "    <tr>\n",
       "      <th>2</th>\n",
       "      <td>3</td>\n",
       "      <td>0.372202</td>\n",
       "    </tr>\n",
       "    <tr>\n",
       "      <th>3</th>\n",
       "      <td>4</td>\n",
       "      <td>0.325018</td>\n",
       "    </tr>\n",
       "    <tr>\n",
       "      <th>4</th>\n",
       "      <td>5</td>\n",
       "      <td>0.331788</td>\n",
       "    </tr>\n",
       "    <tr>\n",
       "      <th>5</th>\n",
       "      <td>6</td>\n",
       "      <td>0.302847</td>\n",
       "    </tr>\n",
       "    <tr>\n",
       "      <th>6</th>\n",
       "      <td>7</td>\n",
       "      <td>0.329892</td>\n",
       "    </tr>\n",
       "    <tr>\n",
       "      <th>7</th>\n",
       "      <td>8</td>\n",
       "      <td>0.350977</td>\n",
       "    </tr>\n",
       "    <tr>\n",
       "      <th>8</th>\n",
       "      <td>9</td>\n",
       "      <td>0.324913</td>\n",
       "    </tr>\n",
       "    <tr>\n",
       "      <th>9</th>\n",
       "      <td>10</td>\n",
       "      <td>0.310333</td>\n",
       "    </tr>\n",
       "  </tbody>\n",
       "</table>\n",
       "</div>"
      ],
      "text/plain": [
       "   fold  pearson_r\n",
       "0     1   0.313344\n",
       "1     2   0.313495\n",
       "2     3   0.372202\n",
       "3     4   0.325018\n",
       "4     5   0.331788\n",
       "5     6   0.302847\n",
       "6     7   0.329892\n",
       "7     8   0.350977\n",
       "8     9   0.324913\n",
       "9    10   0.310333"
      ]
     },
     "execution_count": 11,
     "metadata": {},
     "output_type": "execute_result"
    }
   ],
   "source": [
    "import json\n",
    "import pandas as pd\n",
    "import numpy as np\n",
    "import matplotlib.pyplot as plt\n",
    "from pathlib import Path\n",
    "\n",
    "metrics_path = Path('outputs/nested_cv/nested_cv_metrics.json')\n",
    "if not metrics_path.exists():\n",
    "    raise FileNotFoundError(f'Could not find metrics file: {metrics_path}')\n",
    "\n",
    "with open(metrics_path, 'r', encoding='utf-8') as f:\n",
    "    data = json.load(f)\n",
    "\n",
    "per_fold = data.get('per_fold', [])\n",
    "if not per_fold:\n",
    "    raise ValueError('No per_fold metrics found in the metrics file.')\n",
    "\n",
    "df = pd.DataFrame(per_fold)\n",
    "# Ensure correct dtypes\n",
    "df['fold'] = df['fold'].astype(int)\n",
    "df['pearson_r'] = df['pearson_r'].astype(float)\n",
    "\n",
    "overall = data.get('overall', {}).get('pearson_r', None)\n",
    "df"
   ]
  },
  {
   "cell_type": "code",
   "execution_count": 13,
   "id": "29549b40",
   "metadata": {},
   "outputs": [
    {
     "name": "stderr",
     "output_type": "stream",
     "text": [
      "C:\\Users\\Simen\\AppData\\Local\\Temp\\ipykernel_41232\\29822257.py:4: MatplotlibDeprecationWarning: The 'labels' parameter of boxplot() has been renamed 'tick_labels' since Matplotlib 3.9; support for the old name will be dropped in 3.11.\n",
      "  plt.boxplot(vals, vert=True, labels=[''])\n",
      "C:\\Users\\Simen\\AppData\\Local\\Temp\\ipykernel_41232\\29822257.py:15: UserWarning: No artists with labels found to put in legend.  Note that artists whose label start with an underscore are ignored when legend() is called with no argument.\n",
      "  plt.legend(loc='best')\n"
     ]
    },
    {
     "data": {
      "image/png": "[encoded data removed]",
      "text/plain": [
       "<Figure size 600x400 with 1 Axes>"
      ]
     },
     "metadata": {},
     "output_type": "display_data"
    }
   ],
   "source": [
    "# Boxplot of Pearson r across folds, with individual points overlaid\n",
    "vals = df['pearson_r'].values\n",
    "plt.figure(figsize=(6, 4))\n",
    "plt.boxplot(vals, vert=True, labels=[''])\n",
    "# jittered scatter overlay for individual fold values\n",
    "x = np.random.normal(loc=1, scale=0.03, size=len(vals))\n",
    "#plt.scatter(x, vals, alpha=0.7, label='folds')\n",
    "\n",
    "#if overall is not None:\n",
    "    #plt.axhline(overall, color='red', linestyle='--', linewidth=1.5, label=f'overall r = {overall:.3f}')\n",
    "\n",
    "plt.ylabel('Pearson r')\n",
    "plt.xlabel('Body mass')\n",
    "plt.title('Nested CV: Pearson r across folds')\n",
    "plt.legend(loc='best')\n",
    "plt.grid(axis='y', linestyle=':', alpha=0.5)\n",
    "plt.show()"
   ]
  }
 ],
 "metadata": {
  "kernelspec": {
   "display_name": "base",
   "language": "python",
   "name": "python3"
  },
  "language_info": {
   "codemirror_mode": {
    "name": "ipython",
    "version": 3
   },
   "file_extension": ".py",
   "mimetype": "text/x-python",
   "name": "python",
   "nbconvert_exporter": "python",
   "pygments_lexer": "ipython3",
   "version": "3.12.7"
  }
 },
 "nbformat": 4,
 "nbformat_minor": 5
}
